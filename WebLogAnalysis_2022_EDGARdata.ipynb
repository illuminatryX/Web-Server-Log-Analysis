{
  "cells": [
    {
      "cell_type": "code",
      "execution_count": null,
      "metadata": {
        "id": "7lPjg5fbbd5V"
      },
      "outputs": [],
      "source": [
        "import io, os, requests, zipfile\n",
        "from pyspark.sql import Row\n",
        "from datetime import datetime"
      ]
    },
    {
      "cell_type": "code",
      "execution_count": null,
      "metadata": {
        "ExecuteTime": {
          "end_time": "2022-01-18T19:25:54.472167Z",
          "start_time": "2022-01-18T19:25:54.467235Z"
        },
        "colab": {
          "base_uri": "https://localhost:8080/"
        },
        "id": "Yda-N3q6bd5W",
        "outputId": "8d303c09-ecde-4bdf-a6d5-c876bbc40da6"
      },
      "outputs": [
        {
          "output_type": "stream",
          "name": "stdout",
          "text": [
            "Qtr 4\n",
            "./log20031127.csv\n"
          ]
        }
      ],
      "source": [
        "date = \"20031127\"\n",
        "year = date[:4]\n",
        "Qtr = (int(date[4:6])-1)//3+1; print('Qtr', Qtr)\n",
        "#\n",
        "data_directory = './'\n",
        "csv_file = os.path.join(data_directory, f'log{date}.csv')\n",
        "print(csv_file)"
      ]
    },
    {
      "cell_type": "code",
      "execution_count": null,
      "metadata": {
        "ExecuteTime": {
          "end_time": "2022-01-18T19:25:54.472167Z",
          "start_time": "2022-01-18T19:25:54.467235Z"
        },
        "colab": {
          "base_uri": "https://localhost:8080/",
          "height": 373
        },
        "id": "SpKvkDMRbd5W",
        "outputId": "7d179e05-4fc8-49bb-e458-bd6081d99bd2"
      },
      "outputs": [
        {
          "output_type": "stream",
          "name": "stdout",
          "text": [
            "https://www.sec.gov/dera/data/Public-EDGAR-log-file-data/2024/Qtr3/log20240930.zip\n"
          ]
        },
        {
          "output_type": "error",
          "ename": "BadZipFile",
          "evalue": "File is not a zip file",
          "traceback": [
            "\u001b[0;31m---------------------------------------------------------------------------\u001b[0m",
            "\u001b[0;31mBadZipFile\u001b[0m                                Traceback (most recent call last)",
            "\u001b[0;32m<ipython-input-16-2fb9a3782125>\u001b[0m in \u001b[0;36m<cell line: 1>\u001b[0;34m()\u001b[0m\n\u001b[1;32m      4\u001b[0m     \u001b[0mprint\u001b[0m\u001b[0;34m(\u001b[0m\u001b[0mzip_file_url\u001b[0m\u001b[0;34m)\u001b[0m\u001b[0;34m\u001b[0m\u001b[0;34m\u001b[0m\u001b[0m\n\u001b[1;32m      5\u001b[0m     \u001b[0mr\u001b[0m \u001b[0;34m=\u001b[0m \u001b[0mrequests\u001b[0m\u001b[0;34m.\u001b[0m\u001b[0mget\u001b[0m\u001b[0;34m(\u001b[0m\u001b[0mzip_file_url\u001b[0m\u001b[0;34m)\u001b[0m\u001b[0;34m\u001b[0m\u001b[0;34m\u001b[0m\u001b[0m\n\u001b[0;32m----> 6\u001b[0;31m     \u001b[0mz\u001b[0m \u001b[0;34m=\u001b[0m \u001b[0mzipfile\u001b[0m\u001b[0;34m.\u001b[0m\u001b[0mZipFile\u001b[0m\u001b[0;34m(\u001b[0m\u001b[0mio\u001b[0m\u001b[0;34m.\u001b[0m\u001b[0mBytesIO\u001b[0m\u001b[0;34m(\u001b[0m\u001b[0mr\u001b[0m\u001b[0;34m.\u001b[0m\u001b[0mcontent\u001b[0m\u001b[0;34m)\u001b[0m\u001b[0;34m)\u001b[0m\u001b[0;34m\u001b[0m\u001b[0;34m\u001b[0m\u001b[0m\n\u001b[0m\u001b[1;32m      7\u001b[0m     \u001b[0mz\u001b[0m\u001b[0;34m.\u001b[0m\u001b[0mextractall\u001b[0m\u001b[0;34m(\u001b[0m\u001b[0mdata_directory\u001b[0m\u001b[0;34m)\u001b[0m\u001b[0;34m\u001b[0m\u001b[0;34m\u001b[0m\u001b[0m\n\u001b[1;32m      8\u001b[0m \u001b[0;32melse\u001b[0m\u001b[0;34m:\u001b[0m\u001b[0;34m\u001b[0m\u001b[0;34m\u001b[0m\u001b[0m\n",
            "\u001b[0;32m/usr/lib/python3.10/zipfile.py\u001b[0m in \u001b[0;36m__init__\u001b[0;34m(self, file, mode, compression, allowZip64, compresslevel, strict_timestamps)\u001b[0m\n\u001b[1;32m   1270\u001b[0m         \u001b[0;32mtry\u001b[0m\u001b[0;34m:\u001b[0m\u001b[0;34m\u001b[0m\u001b[0;34m\u001b[0m\u001b[0m\n\u001b[1;32m   1271\u001b[0m             \u001b[0;32mif\u001b[0m \u001b[0mmode\u001b[0m \u001b[0;34m==\u001b[0m \u001b[0;34m'r'\u001b[0m\u001b[0;34m:\u001b[0m\u001b[0;34m\u001b[0m\u001b[0;34m\u001b[0m\u001b[0m\n\u001b[0;32m-> 1272\u001b[0;31m                 \u001b[0mself\u001b[0m\u001b[0;34m.\u001b[0m\u001b[0m_RealGetContents\u001b[0m\u001b[0;34m(\u001b[0m\u001b[0;34m)\u001b[0m\u001b[0;34m\u001b[0m\u001b[0;34m\u001b[0m\u001b[0m\n\u001b[0m\u001b[1;32m   1273\u001b[0m             \u001b[0;32melif\u001b[0m \u001b[0mmode\u001b[0m \u001b[0;32min\u001b[0m \u001b[0;34m(\u001b[0m\u001b[0;34m'w'\u001b[0m\u001b[0;34m,\u001b[0m \u001b[0;34m'x'\u001b[0m\u001b[0;34m)\u001b[0m\u001b[0;34m:\u001b[0m\u001b[0;34m\u001b[0m\u001b[0;34m\u001b[0m\u001b[0m\n\u001b[1;32m   1274\u001b[0m                 \u001b[0;31m# set the modified flag so central directory gets written\u001b[0m\u001b[0;34m\u001b[0m\u001b[0;34m\u001b[0m\u001b[0m\n",
            "\u001b[0;32m/usr/lib/python3.10/zipfile.py\u001b[0m in \u001b[0;36m_RealGetContents\u001b[0;34m(self)\u001b[0m\n\u001b[1;32m   1337\u001b[0m             \u001b[0;32mraise\u001b[0m \u001b[0mBadZipFile\u001b[0m\u001b[0;34m(\u001b[0m\u001b[0;34m\"File is not a zip file\"\u001b[0m\u001b[0;34m)\u001b[0m\u001b[0;34m\u001b[0m\u001b[0;34m\u001b[0m\u001b[0m\n\u001b[1;32m   1338\u001b[0m         \u001b[0;32mif\u001b[0m \u001b[0;32mnot\u001b[0m \u001b[0mendrec\u001b[0m\u001b[0;34m:\u001b[0m\u001b[0;34m\u001b[0m\u001b[0;34m\u001b[0m\u001b[0m\n\u001b[0;32m-> 1339\u001b[0;31m             \u001b[0;32mraise\u001b[0m \u001b[0mBadZipFile\u001b[0m\u001b[0;34m(\u001b[0m\u001b[0;34m\"File is not a zip file\"\u001b[0m\u001b[0;34m)\u001b[0m\u001b[0;34m\u001b[0m\u001b[0;34m\u001b[0m\u001b[0m\n\u001b[0m\u001b[1;32m   1340\u001b[0m         \u001b[0;32mif\u001b[0m \u001b[0mself\u001b[0m\u001b[0;34m.\u001b[0m\u001b[0mdebug\u001b[0m \u001b[0;34m>\u001b[0m \u001b[0;36m1\u001b[0m\u001b[0;34m:\u001b[0m\u001b[0;34m\u001b[0m\u001b[0;34m\u001b[0m\u001b[0m\n\u001b[1;32m   1341\u001b[0m             \u001b[0mprint\u001b[0m\u001b[0;34m(\u001b[0m\u001b[0mendrec\u001b[0m\u001b[0;34m)\u001b[0m\u001b[0;34m\u001b[0m\u001b[0;34m\u001b[0m\u001b[0m\n",
            "\u001b[0;31mBadZipFile\u001b[0m: File is not a zip file"
          ]
        }
      ],
      "source": [
        "if not os.path.exists(csv_file):\n",
        "    #zip_file_url = f'http://www.sec.gov/dera/data/Public-EDGAR-log-file-data/{year}/Qtr{Qtr:d}/log{date}.zip'\n",
        "    zip_file_url = \"https://www.sec.gov/dera/data/Public-EDGAR-log-file-data/2024/Qtr3/log20240930.zip\"\n",
        "    print(zip_file_url)\n",
        "    r = requests.get(zip_file_url)\n",
        "    z = zipfile.ZipFile(io.BytesIO(r.content))\n",
        "    z.extractall(data_directory)\n",
        "else:\n",
        "    pass  # The file is already there"
      ]
    },
    {
      "cell_type": "code",
      "source": [
        "# Specify the file path\n",
        "zip_file_path = 'log20031127.zip'\n",
        "# Specify the directory to extract to (current directory in this case)\n",
        "extract_to = './'\n",
        "\n",
        "# Check if the zip file exists\n",
        "if os.path.exists(zip_file_path):\n",
        "    # Open the zip file\n",
        "    with zipfile.ZipFile(zip_file_path, 'r') as zip_ref:\n",
        "        # Extract all the contents\n",
        "        zip_ref.extractall(extract_to)\n",
        "    print(f\"Unzipped {zip_file_path} successfully.\")\n",
        "else:\n",
        "    print(f\"{zip_file_path} does not exist.\")"
      ],
      "metadata": {
        "colab": {
          "base_uri": "https://localhost:8080/"
        },
        "id": "dkEcMJwAenq_",
        "outputId": "7f981061-a272-4188-858c-6e5a61ff078d"
      },
      "execution_count": null,
      "outputs": [
        {
          "output_type": "stream",
          "name": "stdout",
          "text": [
            "Unzipped log20031127.zip successfully.\n"
          ]
        }
      ]
    },
    {
      "cell_type": "markdown",
      "metadata": {
        "id": "HjXoWw_jbd5W"
      },
      "source": [
        "### Read the file into RDD\n",
        "\n",
        "In Jupyter notebook the SparkSession `spark` and the SparkContext `sc` are created for us"
      ]
    },
    {
      "cell_type": "code",
      "execution_count": null,
      "metadata": {
        "colab": {
          "base_uri": "https://localhost:8080/"
        },
        "id": "zb2v_uBmbd5X",
        "outputId": "97280321-2821-4a94-811d-d27e2645b072"
      },
      "outputs": [
        {
          "output_type": "stream",
          "name": "stdout",
          "text": [
            "Requirement already satisfied: pyspark in /usr/local/lib/python3.10/dist-packages (3.5.3)\n",
            "Requirement already satisfied: py4j==0.10.9.7 in /usr/local/lib/python3.10/dist-packages (from pyspark) (0.10.9.7)\n"
          ]
        }
      ],
      "source": [
        "pip install pyspark"
      ]
    },
    {
      "cell_type": "code",
      "source": [
        "sc"
      ],
      "metadata": {
        "colab": {
          "base_uri": "https://localhost:8080/",
          "height": 36
        },
        "id": "50ClcCu2e4F1",
        "outputId": "170aa6a7-6a29-4b01-b85b-de3786112f81"
      },
      "execution_count": null,
      "outputs": [
        {
          "output_type": "execute_result",
          "data": {
            "text/plain": [
              "''"
            ],
            "application/vnd.google.colaboratory.intrinsic+json": {
              "type": "string"
            }
          },
          "metadata": {},
          "execution_count": 21
        }
      ]
    },
    {
      "cell_type": "markdown",
      "metadata": {
        "id": "bFrj_BZcbd5X"
      },
      "source": [
        "We create \"logFileRDD\" of the file by reading it as a collection of lines. For a start we have a look at the first several lines"
      ]
    },
    {
      "cell_type": "code",
      "execution_count": null,
      "metadata": {
        "ExecuteTime": {
          "end_time": "2022-01-18T12:58:51.291892Z",
          "start_time": "2022-01-18T12:58:51.090083Z"
        },
        "colab": {
          "base_uri": "https://localhost:8080/"
        },
        "id": "j7uK4dzTbd5X",
        "outputId": "b3d97b96-b257-4904-e9ab-0cf8202ab201"
      },
      "outputs": [
        {
          "output_type": "stream",
          "name": "stdout",
          "text": [
            "First 5 lines of the RDD:\n",
            "['ip,date,time,zone,cik,accession,extention,code,size,idx,norefer,noagent,find,crawler,browser', '69.41.134.beg,2003-11-27,00:00:44,500.0,1023139.0,0001157523-03-006384,.txt,200.0,36131.0,0.0,0.0,0.0,4.0,0.0,mac', '141.149.186.iee,2003-11-27,00:00:45,500.0,98338.0,0001072613-03-001600,-index.htm,200.0,3214.0,1.0,0.0,0.0,1.0,0.0,win', '141.149.186.iee,2003-11-27,00:00:47,500.0,98338.0,0001072613-03-001600,form10q_12237.txt,200.0,51204.0,0.0,0.0,0.0,9.0,0.0,win', '209.111.89.ggf,2003-11-27,00:00:50,500.0,839430.0,0001019687-03-002390,.txt,304.0,,0.0,0.0,0.0,1.0,0.0,mie']\n",
            "First 5 rows of the DataFrame:\n",
            "+---------------+----------+--------+-----+---------+--------------------+-----------------+-----+-------+---+-------+-------+----+-------+-------+\n",
            "|             ip|      date|    time| zone|      cik|           accession|        extention| code|   size|idx|norefer|noagent|find|crawler|browser|\n",
            "+---------------+----------+--------+-----+---------+--------------------+-----------------+-----+-------+---+-------+-------+----+-------+-------+\n",
            "|  69.41.134.beg|2003-11-27|00:00:44|500.0|1023139.0|0001157523-03-006384|             .txt|200.0|36131.0|0.0|    0.0|    0.0| 4.0|    0.0|    mac|\n",
            "|141.149.186.iee|2003-11-27|00:00:45|500.0|  98338.0|0001072613-03-001600|       -index.htm|200.0| 3214.0|1.0|    0.0|    0.0| 1.0|    0.0|    win|\n",
            "|141.149.186.iee|2003-11-27|00:00:47|500.0|  98338.0|0001072613-03-001600|form10q_12237.txt|200.0|51204.0|0.0|    0.0|    0.0| 9.0|    0.0|    win|\n",
            "| 209.111.89.ggf|2003-11-27|00:00:50|500.0| 839430.0|0001019687-03-002390|             .txt|304.0|   NULL|0.0|    0.0|    0.0| 1.0|    0.0|    mie|\n",
            "|151.191.175.fdf|2003-11-27|00:01:08|500.0| 874255.0|0000950130-00-000268|      -index.html|304.0|   NULL|1.0|    0.0|    0.0| 1.0|    0.0|    win|\n",
            "+---------------+----------+--------+-----+---------+--------------------+-----------------+-----+-------+---+-------+-------+----+-------+-------+\n",
            "only showing top 5 rows\n",
            "\n"
          ]
        }
      ],
      "source": [
        "from pyspark.sql import SparkSession\n",
        "import os\n",
        "\n",
        "# Initialize Spark session (if not already initialized)\n",
        "spark = SparkSession.builder \\\n",
        "    .appName(\"LogFileProcessing\") \\\n",
        "    .getOrCreate()\n",
        "\n",
        "# Define the path to the CSV file\n",
        "# csv_file = \"path/to/your/file.csv\"  # Replace this with the actual file path\n",
        "\n",
        "# Assert that the file exists\n",
        "assert os.path.exists(csv_file), f\"{csv_file} does not exist. Please check the file path.\"\n",
        "\n",
        "# Load the CSV file as an RDD\n",
        "logFileRDD = spark.sparkContext.textFile(csv_file).cache()\n",
        "\n",
        "# Show the first 5 rows of the RDD\n",
        "print(\"First 5 lines of the RDD:\")\n",
        "print(logFileRDD.take(5))\n",
        "\n",
        "# Convert the RDD to a DataFrame (if you want to perform DataFrame operations)\n",
        "logFileDF = spark.read.option(\"header\", \"true\").csv(csv_file)\n",
        "\n",
        "# Show the first 5 rows of the DataFrame\n",
        "print(\"First 5 rows of the DataFrame:\")\n",
        "logFileDF.show(5)\n",
        "\n",
        "# Stop the Spark session when done (optional in Colab)\n",
        "# spark.stop()\n"
      ]
    },
    {
      "cell_type": "markdown",
      "metadata": {
        "id": "B2xZzQOebd5X"
      },
      "source": [
        "The file has a header now, which should be stripped. The format of the file is diffrent with 15 fields (variables)."
      ]
    },
    {
      "cell_type": "code",
      "execution_count": null,
      "metadata": {
        "ExecuteTime": {
          "end_time": "2022-01-18T12:58:53.298371Z",
          "start_time": "2022-01-18T12:58:53.231720Z"
        },
        "id": "Avai7zr8bd5Y"
      },
      "outputs": [],
      "source": [
        "header = logFileRDD.first() #extract header\n",
        "logFileRDD = logFileRDD.filter(lambda row: row != header)"
      ]
    },
    {
      "cell_type": "markdown",
      "metadata": {
        "id": "KrwU7yD6bd5Y"
      },
      "source": [
        "We briefly summarize the content of the fields\n",
        "1. ip\n",
        "2. date - Apache log file date (yyyy-mm-dd)\n",
        "3. time - Apache log file time (hh:mm:ss)\n",
        "4. zone - Apache log file zone\n",
        "5. cik - SEC Central Index Key (CIK) associated with the document requested\n",
        "6. accession - accession SEC document accession number associated with the document requested\n",
        "7. extention - filename\n",
        "8. code - Apache log file status code for the request\n",
        "9. size - document file size\n",
        "10. idx - takes on a value of 1 if the requester landed on the index page of a set of documents\n",
        "11. norefer\n",
        "12. noagent\n",
        "13. find\n",
        "14. crawler\n",
        "15. browser\n",
        "\n",
        "Let us parse each line of our RDD accordingly"
      ]
    },
    {
      "cell_type": "markdown",
      "metadata": {
        "id": "FvAq6QNbbd5Y"
      },
      "source": [
        "### Construct regular expression for parsing\n",
        "\n",
        "the common regexp patterns can be found here [https://regexpattern.com/date-time/](https://regexpattern.com/date-time/)"
      ]
    },
    {
      "cell_type": "code",
      "execution_count": null,
      "metadata": {
        "colab": {
          "base_uri": "https://localhost:8080/"
        },
        "id": "E9GE27CSbd5Y",
        "outputId": "6ccbe46d-fb9d-44ef-c974-c6d16e194c90"
      },
      "outputs": [
        {
          "output_type": "stream",
          "name": "stdout",
          "text": [
            "^(\\d{1,3}\\.\\d{1,3}\\.\\d{1,3}\\.\\w{3}),(\\d{4}\\-\\d{2}\\-\\d{2}),(\\d{2}:\\d{2}:\\d{2}),(\\d+\\.?\\d*),(\\d+\\.?\\d*),([\\w\\-]+),([\\w\\-\\.]+),(\\d+\\.?\\d*),(\\d+\\.?\\d*),([01]\\.?0?),([01]\\.?0?),([01]\\.?0?),(1?[0-9]\\.?0?),([01]\\.?0?),([a-z]{3})$\n"
          ]
        }
      ],
      "source": [
        "import re\n",
        "# A regular expression pattern to extract fields from the log line\n",
        "re_ip = '\\d{1,3}\\.\\d{1,3}\\.\\d{1,3}\\.\\w{3}'\n",
        "re_date = '\\d{4}\\-\\d{2}\\-\\d{2}'\n",
        "re_time = '\\d{2}:\\d{2}:\\d{2}'\n",
        "re_zone = '\\d+\\.?\\d*'\n",
        "re_cik = '\\d+\\.?\\d*'\n",
        "re_accession = '[\\w\\-]+'\n",
        "re_filename = '[\\w\\-\\.]+'\n",
        "re_code = '\\d+\\.?\\d*'\n",
        "re_size = '\\d+\\.?\\d*'\n",
        "re_idx = '[01]\\.?0?'\n",
        "re_norefer = '[01]\\.?0?'\n",
        "re_noagent = '[01]\\.?0?'\n",
        "re_find = '1?[0-9]\\.?0?'\n",
        "re_crawler = '[01]\\.?0?'\n",
        "re_browser = '[a-z]{3}'\n",
        "#\n",
        "LOG_PATTERN_EDGAR = f'^({re_ip:s}),({re_date:s}),({re_time:s}),({re_zone:s}),({re_cik:s}),\\\n",
        "({re_accession:s}),({re_filename:s}),({re_code:s}),({re_size:s}),({re_idx:s}),\\\n",
        "({re_norefer:s}),({re_noagent:s}),({re_find:s}),({re_crawler:s}),({re_browser:s})$'\n",
        "print(LOG_PATTERN_EDGAR)\n",
        "pattern=re.compile(LOG_PATTERN_EDGAR)"
      ]
    },
    {
      "cell_type": "code",
      "execution_count": null,
      "metadata": {
        "id": "zz1aH8u0bd5Z"
      },
      "outputs": [],
      "source": [
        "# answer from regex101.com\n",
        "# ^(\\d{1,3}\\.\\d{1,3}\\.\\d{1,3}\\.\\w{3}),(\\d{4}\\-\\d{2}\\-\\d{2}),(\\d{2}:\\d{2}:\\d{2}),(\\d+\\.?\\d*),(\\d+\\.?\\d*),([\\w\\-]+),([\\w\\-\\.]+),(\\d+\\.?\\d*),(\\d+\\.?\\d*),([01]\\.?0?),([01]\\.?0?),([01]\\.?0?),(1?[0-9]\\.?0?),([01]\\.?0?),([a-z]{3})$"
      ]
    },
    {
      "cell_type": "code",
      "execution_count": null,
      "metadata": {
        "id": "ZjVsuLDZbd5Z",
        "outputId": "f9b90d0c-8dbd-478e-a515-9c1f31ddebde",
        "colab": {
          "base_uri": "https://localhost:8080/"
        }
      },
      "outputs": [
        {
          "output_type": "execute_result",
          "data": {
            "text/plain": [
              "datetime.time(14, 2, 13)"
            ]
          },
          "metadata": {},
          "execution_count": 9
        }
      ],
      "source": [
        "# check correct pattern for datetime - we neglect the time zone shift for the moment\n",
        "#import datetime\n",
        "#stri = \"24/Oct/1994:13:41:41 -0600\"\n",
        "#dt = datetime.datetime.strptime(stri[:20], \"%d/%b/%Y:%H:%M:%S\")\n",
        "#print(dt)\n",
        "from datetime import datetime\n",
        "datetime.strptime('2003-10-03', \"%Y-%m-%d\").date()\n",
        "datetime.strptime('14:02:13', \"%H:%M:%S\").time()"
      ]
    },
    {
      "cell_type": "markdown",
      "metadata": {
        "id": "4xDNxlC3bd5Z"
      },
      "source": [
        "We will parse each text line into `pyspark.sql.Row`"
      ]
    },
    {
      "cell_type": "code",
      "execution_count": null,
      "metadata": {
        "id": "ZA-vhlIGbd5Z"
      },
      "outputs": [],
      "source": [
        "def parseApacheLogLine(logline):\n",
        "    \"\"\" Parse a line in the Apache Common Log format\n",
        "    Inputs:\n",
        "        logline (str): a line of text in the Apache Common Log format\n",
        "    Outputs:\n",
        "        tuple: either a dictionary containing the parts of the Apache Access Log and 1,\n",
        "               or the original invalid log line and 0\n",
        "    \"\"\"\n",
        "    match = re.search(pattern, logline)\n",
        "    if match is None:   # failed match\n",
        "        #print('failed  ', logline)\n",
        "        return (logline, 0)\n",
        "\n",
        "    #size_field = match.group(9)\n",
        "    #if size_field == '-':\n",
        "    #    size = float(0)\n",
        "    #else:\n",
        "    #    size = float(match.group(9))\n",
        "\n",
        "    parsed_row = Row(\n",
        "        ip          = match.group(1),\n",
        "        date = datetime.strptime(match.group(2), \"%Y-%m-%d\").date(),\n",
        "        time       = datetime.strptime(match.group(3), \"%H:%M:%S\").time(),\n",
        "        zone        = match.group(4),\n",
        "        cik      = match.group(5),\n",
        "        accesion      = match.group(6),\n",
        "        filename = match.group(7),\n",
        "        response_code = int(float(match.group(8))),\n",
        "        content_size  = match.group(9), # size,\n",
        "        idx = bool(match.group(10)),\n",
        "        browser = match.group(15)\n",
        "    )\n",
        "    #print('parsed   ', logline)\n",
        "\n",
        "    return (parsed_row, 1)"
      ]
    },
    {
      "cell_type": "markdown",
      "metadata": {
        "id": "23z4AOqVbd5Z"
      },
      "source": [
        "We will keep track of correctly parsed and failed logs are returned those as two RDDs"
      ]
    },
    {
      "cell_type": "code",
      "execution_count": null,
      "metadata": {
        "id": "fwJvS_xhbd5Z"
      },
      "outputs": [],
      "source": [
        "def access_fail_logs(parsed_logs):\n",
        "    \"\"\" Read and parse log file, print a 20-sample of failed log-lines\n",
        "    Inputs:\n",
        "        parsed_logs (RDD): an RDD obtained via parseApacheLogLine(...)\n",
        "    Outputs:\n",
        "        tuple of RDDs: access_logs, failed_logs\n",
        "    \"\"\"\n",
        "    access_logs = (parsed_logs\n",
        "                   .filter(lambda s: s[1] == 1)\n",
        "                   .map(lambda s: s[0])\n",
        "                   .cache())\n",
        "\n",
        "    failed_logs = (parsed_logs\n",
        "                   .filter(lambda s: s[1] == 0)\n",
        "                   .map(lambda s: s[0]))\n",
        "    failed_logs_count = failed_logs.count()\n",
        "    if failed_logs_count > 0:\n",
        "        print(f'Number of invalid logline: {failed_logs.count():d}')\n",
        "        for line in failed_logs.take(20):\n",
        "            print(f'Invalid logline: {line}')\n",
        "\n",
        "    print(f'Read {parsed_logs.count():d} lines, successfully parsed { access_logs.count():d} lines, \\\n",
        "           failed to parse {failed_logs.count():d} lines')\n",
        "    return access_logs, failed_logs"
      ]
    },
    {
      "cell_type": "code",
      "execution_count": null,
      "metadata": {
        "colab": {
          "base_uri": "https://localhost:8080/"
        },
        "id": "sBOBvIMVbd5a",
        "outputId": "196d99fe-8964-4130-a548-d7614accf2e4"
      },
      "outputs": [
        {
          "output_type": "execute_result",
          "data": {
            "text/plain": [
              "['69.41.134.beg,2003-11-27,00:00:44,500.0,1023139.0,0001157523-03-006384,.txt,200.0,36131.0,0.0,0.0,0.0,4.0,0.0,mac',\n",
              " '141.149.186.iee,2003-11-27,00:00:45,500.0,98338.0,0001072613-03-001600,-index.htm,200.0,3214.0,1.0,0.0,0.0,1.0,0.0,win',\n",
              " '141.149.186.iee,2003-11-27,00:00:47,500.0,98338.0,0001072613-03-001600,form10q_12237.txt,200.0,51204.0,0.0,0.0,0.0,9.0,0.0,win']"
            ]
          },
          "metadata": {},
          "execution_count": 12
        }
      ],
      "source": [
        "logFileRDD.take(3)"
      ]
    },
    {
      "cell_type": "code",
      "execution_count": null,
      "metadata": {
        "colab": {
          "base_uri": "https://localhost:8080/"
        },
        "id": "zGD6AkLabd5a",
        "outputId": "b912488c-6411-43e7-a695-c814e3ad0b1c"
      },
      "outputs": [
        {
          "output_type": "execute_result",
          "data": {
            "text/plain": [
              "(Row(ip='69.41.134.beg', date=datetime.date(2003, 11, 27), time=datetime.time(0, 0, 44), zone='500.0', cik='1023139.0', accesion='0001157523-03-006384', filename='.txt', response_code=200, content_size='36131.0', idx=True, browser='mac'),\n",
              " 1)"
            ]
          },
          "metadata": {},
          "execution_count": 14
        }
      ],
      "source": [
        "parseApacheLogLine('69.41.134.beg,2003-11-27,00:00:44,500.0,1023139.0,0001157523-03-006384,.txt,200.0,36131.0,0.0,0.0,0.0,4.0,0.0,mac')"
      ]
    },
    {
      "cell_type": "code",
      "execution_count": null,
      "metadata": {
        "id": "-JNP6LR-bd5a"
      },
      "outputs": [],
      "source": [
        "parsedLogsRDD = logFileRDD.map(parseApacheLogLine).cache()"
      ]
    },
    {
      "cell_type": "code",
      "execution_count": null,
      "metadata": {
        "colab": {
          "base_uri": "https://localhost:8080/"
        },
        "id": "sJWUX5anbd5a",
        "outputId": "5fd22d74-154e-4611-ad05-53a7e072c209"
      },
      "outputs": [
        {
          "output_type": "execute_result",
          "data": {
            "text/plain": [
              "[(Row(ip='69.41.134.beg', date=datetime.date(2003, 11, 27), time=datetime.time(0, 0, 44), zone='500.0', cik='1023139.0', accesion='0001157523-03-006384', filename='.txt', response_code=200, content_size='36131.0', idx=True, browser='mac'),\n",
              "  1)]"
            ]
          },
          "metadata": {},
          "execution_count": 16
        }
      ],
      "source": [
        "parsedLogsRDD.take(1)"
      ]
    },
    {
      "cell_type": "code",
      "execution_count": null,
      "metadata": {
        "colab": {
          "base_uri": "https://localhost:8080/"
        },
        "id": "Ag5X_pdhbd5a",
        "outputId": "8ac0ad71-2ba5-4c7f-86f8-d00cdc34162c"
      },
      "outputs": [
        {
          "output_type": "stream",
          "name": "stdout",
          "text": [
            "Number of invalid logline: 11100\n",
            "Invalid logline: 209.111.89.ggf,2003-11-27,00:00:50,500.0,839430.0,0001019687-03-002390,.txt,304.0,,0.0,0.0,0.0,1.0,0.0,mie\n",
            "Invalid logline: 151.191.175.fdf,2003-11-27,00:01:08,500.0,874255.0,0000950130-00-000268,-index.html,304.0,,1.0,0.0,0.0,1.0,0.0,win\n",
            "Invalid logline: 61.115.76.jbf,2003-11-27,00:01:11,500.0,1271300.0,9999999997-03-042782,.txt,200.0,1436.0,0.0,1.0,0.0,0.0,0.0,\n",
            "Invalid logline: 67.118.98.jfc,2003-11-27,00:01:11,500.0,1115143.0,0001266275-03-000002,primary_doc.xml,304.0,,0.0,1.0,0.0,0.0,0.0,win\n",
            "Invalid logline: 61.115.76.jbf,2003-11-27,00:01:12,500.0,901430.0,0000885725-03-000128,.txt,200.0,8352.0,0.0,1.0,0.0,0.0,0.0,\n",
            "Invalid logline: 61.115.76.jbf,2003-11-27,00:01:13,500.0,790500.0,9999999997-03-042788,.txt,200.0,1815.0,0.0,1.0,0.0,0.0,0.0,\n",
            "Invalid logline: 61.115.76.jbf,2003-11-27,00:01:14,500.0,779336.0,9999999997-03-042786,.txt,200.0,1698.0,0.0,1.0,0.0,0.0,0.0,\n",
            "Invalid logline: 61.115.76.jbf,2003-11-27,00:01:15,500.0,1052837.0,0001104659-03-027393,.txt,200.0,11254.0,0.0,1.0,0.0,0.0,0.0,\n",
            "Invalid logline: 203.195.223.bcj,2003-11-27,00:01:17,500.0,1103021.0,0001096906-03-000644,-index.htm,304.0,,1.0,0.0,0.0,1.0,0.0,mie\n",
            "Invalid logline: 61.115.76.jbf,2003-11-27,00:01:18,500.0,897878.0,0000897878-03-000060,.txt,200.0,350203.0,0.0,1.0,0.0,0.0,0.0,\n",
            "Invalid logline: 61.115.76.jbf,2003-11-27,00:01:33,500.0,899629.0,0001005477-03-004529,.txt,200.0,9150.0,0.0,1.0,0.0,0.0,0.0,\n",
            "Invalid logline: 61.115.76.jbf,2003-11-27,00:01:34,500.0,916542.0,0000916542-03-000005,.txt,200.0,15365.0,0.0,1.0,0.0,0.0,0.0,\n",
            "Invalid logline: 202.71.146.jdd,2003-11-27,00:01:48,500.0,1006264.0,0000927356-01-500013,-index.htm,304.0,,1.0,0.0,0.0,1.0,0.0,win\n",
            "Invalid logline: 202.71.146.jdd,2003-11-27,00:01:50,500.0,1006264.0,0000927356-01-500013,ddef14a.txt,304.0,,0.0,0.0,0.0,9.0,0.0,win\n",
            "Invalid logline: 202.71.146.jdd,2003-11-27,00:01:56,500.0,80737.0,0000950131-95-001065,.txt,304.0,,0.0,0.0,0.0,1.0,0.0,win\n",
            "Invalid logline: 202.71.146.jdd,2003-11-27,00:01:58,500.0,1071341.0,0000890566-99-000570,.txt,304.0,,0.0,0.0,0.0,1.0,0.0,win\n",
            "Invalid logline: 67.118.98.jfc,2003-11-27,00:02:22,500.0,1115143.0,0001266275-03-000002,bofaventuresattachment.htm,304.0,,0.0,1.0,0.0,0.0,0.0,win\n",
            "Invalid logline: 67.118.98.jfc,2003-11-27,00:02:24,500.0,1115143.0,0001266275-03-000002,jtfilerinfoacusphere.htm,304.0,,0.0,1.0,0.0,0.0,0.0,win\n",
            "Invalid logline: 67.118.98.jfc,2003-11-27,00:02:25,500.0,797448.0,0000950144-03-011392,g84029a1exv21w1.txt,304.0,,0.0,1.0,0.0,0.0,0.0,win\n",
            "Invalid logline: 67.118.98.jfc,2003-11-27,00:02:27,500.0,797448.0,0000950144-03-011392,g84029a1exv23w1.txt,304.0,,0.0,1.0,0.0,0.0,0.0,win\n",
            "Read 28142 lines, successfully parsed 17042 lines,            failed to parse 11100 lines\n"
          ]
        }
      ],
      "source": [
        "accessLogsRDD, failedLogsRDD = access_fail_logs(parsedLogsRDD)"
      ]
    },
    {
      "cell_type": "markdown",
      "metadata": {
        "id": "mxRmleC6bd5a"
      },
      "source": [
        "### Explore parsed data\n",
        "\n",
        "How can we be sure that our parsing delivered meaningful results? Let us have a look at the unique values of the \"method\", \"response code\", and \"protocol\"."
      ]
    },
    {
      "cell_type": "code",
      "execution_count": null,
      "metadata": {
        "colab": {
          "base_uri": "https://localhost:8080/"
        },
        "id": "uzM2XA6sbd5b",
        "outputId": "88ac4337-dccf-446f-db38-7d4be5172e0d"
      },
      "outputs": [
        {
          "output_type": "stream",
          "name": "stdout",
          "text": [
            "Response codes are [200, 206, 302, 404]\n",
            "Browsers are ['lin', 'mac', 'mie', 'opr', 'win']\n"
          ]
        }
      ],
      "source": [
        "def distinct_responsecodes_browsers(accessLogsRDD):\n",
        "    \"\"\"\n",
        "    Prints distinct values for  response codes and browsers\n",
        "    Inputs:\n",
        "        accessLogsRDD\n",
        "    \"\"\"\n",
        "    ResponseCodesRDD = accessLogsRDD.map(lambda log: log.response_code)\n",
        "    uniqueResponseCodesRDD = ResponseCodesRDD.distinct()\n",
        "    print(\"Response codes are\", sorted(uniqueResponseCodesRDD.collect()))\n",
        "    BrowserRDD = accessLogsRDD.map(lambda log: log.browser)\n",
        "    uniqueBrowserRDD = BrowserRDD.distinct()\n",
        "    print(\"Browsers are\", sorted(uniqueBrowserRDD.collect()))\n",
        "    #return MethodsRDD, ResponseCodesRDD, ProtocolsRDD\n",
        "    return None\n",
        "\n",
        "distinct_responsecodes_browsers(accessLogsRDD)"
      ]
    },
    {
      "cell_type": "markdown",
      "metadata": {
        "id": "bVUsCDhNbd5b"
      },
      "source": [
        "## Adjust parsing\n"
      ]
    },
    {
      "cell_type": "code",
      "execution_count": null,
      "metadata": {
        "colab": {
          "base_uri": "https://localhost:8080/"
        },
        "id": "4w3D5LEMbd5b",
        "outputId": "064301a9-099b-47df-cee9-bf90e6862f59"
      },
      "outputs": [
        {
          "output_type": "stream",
          "name": "stdout",
          "text": [
            "^(\\d{1,3}\\.\\d{1,3}\\.\\d{1,3}\\.\\w{3}),(\\d{4}\\-\\d{2}\\-\\d{2}),(\\d{2}:\\d{2}:\\d{2}),(\\d+\\.?\\d*),(\\d+\\.?\\d*),([\\w\\-]+),([\\w\\-\\.]+),(\\d+\\.?\\d*),(\\d*\\.?\\d*),([01]\\.?0?),([01]\\.?0?),([01]\\.?0?),(1?[0-9]\\.?0?),([01]\\.?0?),([a-z]{0,3})$\n"
          ]
        }
      ],
      "source": [
        "# A regular expression pattern to extract fields from the log line\n",
        "re_ip = '\\d{1,3}\\.\\d{1,3}\\.\\d{1,3}\\.\\w{3}'\n",
        "re_date = '\\d{4}\\-\\d{2}\\-\\d{2}'\n",
        "re_time = '\\d{2}:\\d{2}:\\d{2}'\n",
        "re_zone = '\\d+\\.?\\d*'\n",
        "re_cik = '\\d+\\.?\\d*'\n",
        "re_accession = '[\\w\\-]+'\n",
        "re_filename = '[\\w\\-\\.]+'\n",
        "re_code = '\\d+\\.?\\d*'\n",
        "re_size = '\\d*\\.?\\d*'\n",
        "re_idx = '[01]\\.?0?'\n",
        "re_norefer = '[01]\\.?0?'\n",
        "re_noagent = '[01]\\.?0?'\n",
        "re_find = '1?[0-9]\\.?0?'\n",
        "re_crawler = '[01]\\.?0?'\n",
        "re_browser = '[a-z]{0,3}'\n",
        "#\n",
        "LOG_PATTERN_EDGAR = f'^({re_ip:s}),({re_date:s}),({re_time:s}),({re_zone:s}),({re_cik:s}),\\\n",
        "({re_accession:s}),({re_filename:s}),({re_code:s}),({re_size:s}),({re_idx:s}),\\\n",
        "({re_norefer:s}),({re_noagent:s}),({re_find:s}),({re_crawler:s}),({re_browser:s})$'\n",
        "print(LOG_PATTERN_EDGAR)\n",
        "pattern=re.compile(LOG_PATTERN_EDGAR)"
      ]
    },
    {
      "cell_type": "code",
      "execution_count": null,
      "metadata": {
        "id": "If3kXO0ubd5b"
      },
      "outputs": [],
      "source": [
        "def parseApacheLogLine(logline):\n",
        "    \"\"\" Parse a line in the Apache Common Log format\n",
        "    Inputs:S\n",
        "        logline (str): a line of text in the Apache Common Log format\n",
        "    Outputs:\n",
        "        tuple: either a dictionary containing the parts of the Apache Access Log and 1,\n",
        "               or the original invalid log line and 0\n",
        "    \"\"\"\n",
        "    match = re.search(pattern, logline)\n",
        "    if match is None:   # failed match\n",
        "        print('failed  ', logline)\n",
        "        return (logline, 0)\n",
        "\n",
        "    size_field = match.group(9)\n",
        "    if size_field:\n",
        "        size = float(match.group(9))\n",
        "    else:\n",
        "        size = float(0)\n",
        "\n",
        "    browser_field = match.group(15)\n",
        "    if browser_field:\n",
        "        browser = browser_field\n",
        "    else:\n",
        "        browser = 'not_found'\n",
        "\n",
        "    parsed_row = Row(\n",
        "        ip          = match.group(1),\n",
        "        date = datetime.strptime(match.group(2), \"%Y-%m-%d\").date(),\n",
        "        time       = datetime.strptime(match.group(3), \"%H:%M:%S\").time(),\n",
        "        zone        = match.group(4),\n",
        "        cik      = match.group(5),\n",
        "        accesion      = match.group(6),\n",
        "        filename = match.group(7),\n",
        "        response_code = int(float(match.group(8))),\n",
        "        content_size  = size,\n",
        "        idx = bool(match.group(10)),\n",
        "        browser = browser\n",
        "    )\n",
        "    print('parsed   ', logline)\n",
        "\n",
        "    return (parsed_row, 1)"
      ]
    },
    {
      "cell_type": "code",
      "execution_count": null,
      "metadata": {
        "id": "IYpGOQ88bd5b"
      },
      "outputs": [],
      "source": []
    },
    {
      "cell_type": "code",
      "execution_count": null,
      "metadata": {
        "id": "sibEoN4pbd5b",
        "outputId": "c7668a95-074c-43ce-bca6-9166bd6580a9"
      },
      "outputs": [
        {
          "name": "stdout",
          "output_type": "stream",
          "text": [
            "parsed    208.252.214.jbf,2003-03-03,00:00:00,500.0,919642.0,0000891836-02-000291,-index.htm,304.0,,1.0,0.0,0.0,1.0,0.0,mie\n"
          ]
        }
      ],
      "source": [
        "#parseApacheLogLine('208.252.214.jbf,2003-03-03,00:00:00,500.0,919642.0,0000891836-02-000291,-index.htm,304.0,,1.0,0.0,0.0,1.0,0.0,mie')"
      ]
    },
    {
      "cell_type": "code",
      "execution_count": null,
      "metadata": {
        "id": "Ckdwwt_lbd5c",
        "outputId": "c3a52995-bc39-45b4-86bd-4a1ac4b64120"
      },
      "outputs": [
        {
          "name": "stdout",
          "output_type": "stream",
          "text": [
            "parsed    209.172.247.haf,2003-03-03,00:00:04,500.0,78003.0,0000914121-02-001461,pf121702-8k.txt,200.0,2527.0,0.0,0.0,0.0,9.0,0.0,win\n"
          ]
        }
      ],
      "source": [
        "#parseApacheLogLine('209.172.247.haf,2003-03-03,00:00:04,500.0,78003.0,0000914121-02-001461,pf121702-8k.txt,200.0,2527.0,0.0,0.0,0.0,9.0,0.0,win')"
      ]
    },
    {
      "cell_type": "code",
      "execution_count": null,
      "metadata": {
        "id": "x5bCQV0Obd5c",
        "outputId": "fb837cbc-d0f8-4588-cd33-bdd844eb0e22"
      },
      "outputs": [
        {
          "name": "stdout",
          "output_type": "stream",
          "text": [
            "parsed    66.48.138.ach,2003-03-03,00:01:52,500.0,1037949.0,0001047469-03-006343,.txt,200.0,13224.0,0.0,1.0,0.0,0.0,0.0,\n"
          ]
        }
      ],
      "source": [
        "#parseApacheLogLine('66.48.138.ach,2003-03-03,00:01:52,500.0,1037949.0,0001047469-03-006343,.txt,200.0,13224.0,0.0,1.0,0.0,0.0,0.0,')"
      ]
    },
    {
      "cell_type": "code",
      "execution_count": null,
      "metadata": {
        "id": "UqssaHGsbd5c"
      },
      "outputs": [],
      "source": []
    },
    {
      "cell_type": "code",
      "execution_count": null,
      "metadata": {
        "id": "9FDHcvCcbd5c"
      },
      "outputs": [],
      "source": []
    },
    {
      "cell_type": "code",
      "execution_count": null,
      "metadata": {
        "id": "m5fX8AUabd5c"
      },
      "outputs": [],
      "source": [
        "parsedLogsRDD1 = logFileRDD.map(parseApacheLogLine).cache()"
      ]
    },
    {
      "cell_type": "code",
      "execution_count": null,
      "metadata": {
        "colab": {
          "base_uri": "https://localhost:8080/"
        },
        "id": "h9Ox1u3xbd5d",
        "outputId": "5a9cad28-3b7a-47c8-9ae6-5f7401d113c8"
      },
      "outputs": [
        {
          "output_type": "execute_result",
          "data": {
            "text/plain": [
              "[(Row(ip='69.41.134.beg', date=datetime.date(2003, 11, 27), time=datetime.time(0, 0, 44), zone='500.0', cik='1023139.0', accesion='0001157523-03-006384', filename='.txt', response_code=200, content_size=36131.0, idx=True, browser='mac'),\n",
              "  1)]"
            ]
          },
          "metadata": {},
          "execution_count": 22
        }
      ],
      "source": [
        "parsedLogsRDD1.take(1)"
      ]
    },
    {
      "cell_type": "code",
      "execution_count": null,
      "metadata": {
        "colab": {
          "base_uri": "https://localhost:8080/"
        },
        "id": "rHiI_FcXbd5d",
        "outputId": "bab13dad-daae-4f2c-a1d8-0afc77fe90d5"
      },
      "outputs": [
        {
          "output_type": "stream",
          "name": "stdout",
          "text": [
            "Number of invalid logline: 687\n",
            "Invalid logline: 67.118.98.jfc,2003-11-27,00:02:31,500.0,1115143.0,0001266275-03-000002,xslF345X02/primary_doc.xml,200.0,34998.0,0.0,1.0,0.0,0.0,0.0,win\n",
            "Invalid logline: 164.164.89.djf,2003-11-27,00:03:44,500.0,45599.0,0001209191-03-027965,xslF345X02/doc4.xml,200.0,15391.0,0.0,0.0,0.0,9.0,0.0,win\n",
            "Invalid logline: 32.103.193.egd,2003-11-27,00:04:07,500.0,1078271.0,0001241404-03-000021,xslF345X02/edgar.xml,200.0,25594.0,0.0,0.0,0.0,10.0,0.0,win\n",
            "Invalid logline: 202.71.146.jdd,2003-11-27,00:05:16,500.0,851968.0,0000925177-03-000001,xslF345X02/edgardoc.xml,200.0,17754.0,0.0,0.0,0.0,9.0,0.0,win\n",
            "Invalid logline: 64.85.248.aed,2003-11-27,00:07:04,500.0,1023731.0,0001054779-03-000003,xslF345X02/primary_doc.xml,200.0,16985.0,0.0,0.0,0.0,9.0,0.0,win\n",
            "Invalid logline: 164.164.89.djf,2003-11-27,00:07:19,500.0,1086319.0,0000919567-03-000072,xslF345X02/gasco-form3_ex.xml,200.0,25160.0,0.0,0.0,0.0,9.0,0.0,win\n",
            "Invalid logline: 164.164.89.djf,2003-11-27,00:11:25,500.0,1258623.0,0000940394-03-001194,xslF345X02/hay18.xml,200.0,11665.0,0.0,0.0,0.0,9.0,0.0,win\n",
            "Invalid logline: 67.118.98.jfc,2003-11-27,00:14:51,500.0,1115143.0,0001266275-03-000002,xslF345X02/primary_doc.xml,200.0,34998.0,0.0,1.0,0.0,0.0,0.0,win\n",
            "Invalid logline: 67.118.98.jfc,2003-11-27,00:16:18,500.0,1115143.0,0001266275-03-000002,xslF345X02/primary_doc.xml,200.0,34998.0,0.0,1.0,0.0,0.0,0.0,win\n",
            "Invalid logline: 133.145.228.haa,2003-11-27,00:17:04,500.0,826083.0,0001140889-03-000005,xslF345/doc4.xml,200.0,15934.0,0.0,0.0,0.0,9.0,0.0,mie\n",
            "Invalid logline: 133.145.228.haa,2003-11-27,00:17:33,500.0,826083.0,0001140890-03-000002,xslF345/doc4.xml,200.0,17048.0,0.0,0.0,0.0,9.0,0.0,mie\n",
            "Invalid logline: 138.23.226.gjh,2003-11-27,00:18:05,500.0,863456.0,0001238000-03-000010,xslF345X02/edgardoc.xml,200.0,11548.0,0.0,0.0,0.0,9.0,0.0,win\n",
            "Invalid logline: 202.71.146.jdd,2003-11-27,00:18:05,500.0,1097313.0,0001140361-03-002264,xslF345/doc1.xml,200.0,16597.0,0.0,0.0,0.0,9.0,0.0,win\n",
            "Invalid logline: 63.175.135.ddh,2003-11-27,00:19:31,500.0,38079.0,0000038079-03-000027,xslF345X02/edgardoc.xml,200.0,15546.0,0.0,1.0,0.0,0.0,0.0,\n",
            "Invalid logline: 151.197.191.aea,2003-11-27,00:20:31,500.0,1094005.0,0001181431-03-033008,xslF345X02/rrd23935.xml,200.0,15794.0,0.0,1.0,0.0,0.0,0.0,win\n",
            "Invalid logline: 63.175.135.ddh,2003-11-27,00:21:32,500.0,38079.0,0000038079-03-000027,xslF345X02/edgardoc.xml,200.0,15546.0,0.0,1.0,0.0,0.0,0.0,\n",
            "Invalid logline: 202.71.146.jdd,2003-11-27,00:21:48,500.0,1065865.0,0001217495-03-000001,xslF345/edgar.xml,200.0,22723.0,0.0,0.0,0.0,9.0,0.0,win\n",
            "Invalid logline: 67.118.98.jfc,2003-11-27,00:21:56,500.0,1115143.0,0001266275-03-000002,xslF345X02/primary_doc.xml,200.0,34998.0,0.0,1.0,0.0,0.0,0.0,win\n",
            "Invalid logline: 202.71.146.jdd,2003-11-27,00:23:22,500.0,1065865.0,0001217986-03-000003,xslF345/edgar.xml,200.0,34221.0,0.0,0.0,0.0,9.0,0.0,win\n",
            "Invalid logline: 164.164.89.djf,2003-11-27,00:24:16,500.0,856982.0,0000931731-03-000436,xslF345X02/form4-gbarnett112503_ex.xml,200.0,21593.0,0.0,0.0,0.0,9.0,0.0,win\n",
            "Read 28142 lines, successfully parsed 27455 lines,            failed to parse 687 lines\n"
          ]
        }
      ],
      "source": [
        "accessLogsRDD1, failedLogsRDD1 = access_fail_logs(parsedLogsRDD1)"
      ]
    },
    {
      "cell_type": "markdown",
      "metadata": {
        "id": "GYuk4AXDbd5d"
      },
      "source": [
        "Checking again that results are meaningful"
      ]
    },
    {
      "cell_type": "code",
      "execution_count": null,
      "metadata": {
        "id": "c365qwWubd5d",
        "outputId": "b53fb0ca-c179-420a-bb96-df61acf40ef0",
        "colab": {
          "base_uri": "https://localhost:8080/"
        }
      },
      "outputs": [
        {
          "output_type": "stream",
          "name": "stdout",
          "text": [
            "Response codes are [200, 206, 302, 304, 400, 404]\n",
            "Browsers are ['lin', 'mac', 'mie', 'not_found', 'opr', 'win']\n"
          ]
        }
      ],
      "source": [
        "distinct_responsecodes_browsers(accessLogsRDD1)"
      ]
    },
    {
      "cell_type": "markdown",
      "metadata": {
        "id": "aHndAqWRbd5d"
      },
      "source": [
        "Again we check that the results are reasonable"
      ]
    },
    {
      "cell_type": "code",
      "execution_count": null,
      "metadata": {
        "id": "8krQbie6bd5d",
        "outputId": "a202e889-560a-4eaf-8bcd-eb3af72de18d",
        "colab": {
          "base_uri": "https://localhost:8080/"
        }
      },
      "outputs": [
        {
          "output_type": "execute_result",
          "data": {
            "text/plain": [
              "<module 'utils' from '/content/utils.py'>"
            ]
          },
          "metadata": {},
          "execution_count": 25
        }
      ],
      "source": [
        "import importlib\n",
        "import pattern_EDGAR as pE; importlib.reload(pE)\n",
        "import utils; importlib.reload(utils)"
      ]
    },
    {
      "cell_type": "code",
      "execution_count": null,
      "metadata": {
        "scrolled": true,
        "tags": [],
        "id": "smqbtmhLbd5d"
      },
      "outputs": [],
      "source": [
        "parsedLogsRDD1 = logFileRDD.map(pE.parseApacheLogLine).cache()"
      ]
    },
    {
      "cell_type": "code",
      "execution_count": null,
      "metadata": {
        "scrolled": true,
        "tags": [],
        "id": "mNL58SzSbd5e",
        "outputId": "f2e0285f-a383-475e-c42e-98dbba42275d",
        "colab": {
          "base_uri": "https://localhost:8080/"
        }
      },
      "outputs": [
        {
          "output_type": "execute_result",
          "data": {
            "text/plain": [
              "[(Row(ip='69.41.134.beg', date=datetime.date(2003, 11, 27), time=datetime.time(0, 0, 44), zone='500.0', cik='1023139.0', accesion='0001157523-03-006384', filename='.txt', response_code=200, content_size=36131.0, idx=True, browser='mac'),\n",
              "  1),\n",
              " (Row(ip='141.149.186.iee', date=datetime.date(2003, 11, 27), time=datetime.time(0, 0, 45), zone='500.0', cik='98338.0', accesion='0001072613-03-001600', filename='-index.htm', response_code=200, content_size=3214.0, idx=True, browser='win'),\n",
              "  1),\n",
              " (Row(ip='141.149.186.iee', date=datetime.date(2003, 11, 27), time=datetime.time(0, 0, 47), zone='500.0', cik='98338.0', accesion='0001072613-03-001600', filename='form10q_12237.txt', response_code=200, content_size=51204.0, idx=True, browser='win'),\n",
              "  1)]"
            ]
          },
          "metadata": {},
          "execution_count": 27
        }
      ],
      "source": [
        "parsedLogsRDD1.take(3)"
      ]
    },
    {
      "cell_type": "code",
      "execution_count": null,
      "metadata": {
        "scrolled": true,
        "tags": [],
        "id": "ISnWwoMRbd5e"
      },
      "outputs": [],
      "source": [
        "accessLogsRDD1, failedLogsRDD1 = utils.access_fail_logs(parsedLogsRDD1)"
      ]
    },
    {
      "cell_type": "code",
      "execution_count": null,
      "metadata": {
        "scrolled": true,
        "tags": [],
        "id": "ldHCTZGLbd5e",
        "outputId": "fe45632d-26a9-4ee6-f6fc-c5d17e2ca492",
        "colab": {
          "base_uri": "https://localhost:8080/"
        }
      },
      "outputs": [
        {
          "output_type": "execute_result",
          "data": {
            "text/plain": [
              "687"
            ]
          },
          "metadata": {},
          "execution_count": 29
        }
      ],
      "source": [
        "failedLogsRDD1.count()"
      ]
    },
    {
      "cell_type": "code",
      "execution_count": null,
      "metadata": {
        "scrolled": true,
        "tags": [],
        "id": "3zNz47jobd5e"
      },
      "outputs": [],
      "source": [
        "uniqueResponseCodes, uniqueBrowsers = pE.distinct_responsecodes_browsers(accessLogsRDD)"
      ]
    },
    {
      "cell_type": "code",
      "execution_count": null,
      "metadata": {
        "id": "94WCKsP5bd5e",
        "outputId": "eb74d11b-90d8-4b68-f6e3-bb0af139df29",
        "colab": {
          "base_uri": "https://localhost:8080/"
        }
      },
      "outputs": [
        {
          "output_type": "stream",
          "name": "stdout",
          "text": [
            "uniqueResponseCodes [200, 206, 302, 404]\n",
            "uniqueBrowsers ['lin', 'mac', 'mie', 'opr', 'win']\n"
          ]
        }
      ],
      "source": [
        "print('uniqueResponseCodes', uniqueResponseCodes)\n",
        "print('uniqueBrowsers', uniqueBrowsers)"
      ]
    },
    {
      "cell_type": "markdown",
      "metadata": {
        "id": "ACk8UGWzbd5e"
      },
      "source": [
        "## Spark Streaming"
      ]
    },
    {
      "cell_type": "code",
      "execution_count": null,
      "metadata": {
        "id": "5Y9bLNUtbd5e"
      },
      "outputs": [],
      "source": [
        "from pyspark import SparkContext\n",
        "from pyspark.streaming import StreamingContext\n",
        "\n",
        "import pattern_EDGAR as pE  #; importlib.reload(pE)\n",
        "import utils;"
      ]
    },
    {
      "cell_type": "code",
      "execution_count": null,
      "metadata": {
        "id": "XwOq8oLtbd5e"
      },
      "outputs": [],
      "source": [
        "#sc = SparkContext(\"local[2]\", \"NetworkWordCount\")\n",
        "ssc = StreamingContext(sc, 1)"
      ]
    },
    {
      "cell_type": "code",
      "execution_count": null,
      "metadata": {
        "id": "N4FOAY4_bd5e"
      },
      "outputs": [],
      "source": [
        "lines = ssc.socketTextStream(\"localhost\", 8890)"
      ]
    },
    {
      "cell_type": "code",
      "execution_count": null,
      "metadata": {
        "id": "5S4LPkUFbd5f"
      },
      "outputs": [],
      "source": [
        "parsedLogsRDD1 = logFileRDD.map(pE.parseApacheLogLine).cache()"
      ]
    },
    {
      "cell_type": "code",
      "execution_count": null,
      "metadata": {
        "id": "fAxa61c7bd5f"
      },
      "outputs": [],
      "source": [
        "parsedLogsRDD1.pprint()"
      ]
    },
    {
      "cell_type": "code",
      "execution_count": null,
      "metadata": {
        "id": "ahZgWLO_bd5f"
      },
      "outputs": [],
      "source": [
        "ssc.start()             # Start the computation\n",
        "ssc.awaitTermination()  # Wait for the computation to terminate"
      ]
    },
    {
      "cell_type": "code",
      "execution_count": null,
      "metadata": {
        "id": "TAa8iXUWbd5f"
      },
      "outputs": [],
      "source": [
        "# run Netcat as a data server\n",
        "%sh\n",
        "cat ./data/log20030303.csv | nc -u localhost 8890 -w0"
      ]
    }
  ],
  "metadata": {
    "kernelspec": {
      "display_name": "Python 3",
      "language": "python",
      "name": "python3"
    },
    "language_info": {
      "codemirror_mode": {
        "name": "ipython",
        "version": 3
      },
      "file_extension": ".py",
      "mimetype": "text/x-python",
      "name": "python",
      "nbconvert_exporter": "python",
      "pygments_lexer": "ipython3",
      "version": "3.9.5"
    },
    "toc": {
      "base_numbering": 1,
      "nav_menu": {},
      "number_sections": true,
      "sideBar": true,
      "skip_h1_title": false,
      "title_cell": "Table of Contents",
      "title_sidebar": "Contents",
      "toc_cell": false,
      "toc_position": {},
      "toc_section_display": true,
      "toc_window_display": true
    },
    "colab": {
      "provenance": []
    }
  },
  "nbformat": 4,
  "nbformat_minor": 0
}